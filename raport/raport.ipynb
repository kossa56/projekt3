{
 "cells": [
  {
   "cell_type": "markdown",
   "id": "830cde10-1807-4af9-a0a5-9f6f2a24a492",
   "metadata": {},
   "source": [
    "# TECHNIKI PROGRAMOWANIA - projekt 3, grupa 2 "
   ]
  },
  {
   "cell_type": "markdown",
   "id": "6a227ead-6e5c-4f85-aa59-cbadd65816a3",
   "metadata": {},
   "source": [
    "<h3> Michał Kossakowski 197589 ACiR gr 2 sem 2 </h3> \n",
    "<h3>Kacper Komorowski 197963 ACiR gr 2 sem 2 </h3> "
   ]
  },
  {
   "cell_type": "markdown",
   "id": "c1c8b672-9864-4b35-87ad-ca367695902c",
   "metadata": {
    "jp-MarkdownHeadingCollapsed": true
   },
   "source": [
    " ### wykorzystane biblioteki: \n",
    " - matplotplusplus \n",
    " - pybind11\n",
    " - openCV\n",
    " - AudioFile\n",
    " - standardowe biblioteki c++\n",
    "   "
   ]
  },
  {
   "cell_type": "markdown",
   "id": "7c39da6f-6c2d-4188-80ec-82bc68287509",
   "metadata": {
    "jp-MarkdownHeadingCollapsed": true
   },
   "source": [
    "## Wizualizacja wykresów 1D o zadanej częstotliwości\n",
    "\n",
    "W tej sekcji zaprezentujemy różne rodzaje wykresów jednowymiarowych, które reprezentują sygnały o zadanej częstotliwości. Wykresy te obejmują funkcje sinus, cosinus, piłokształtną oraz prostokątną.\n",
    "\n",
    "- **Sinus**: Reprezentuje podstawową falę sinusoidalną.\n",
    "- **Cosinus**: Podobnie jak fala sinusoidalna, ale przesunięta w fazie o 90 stopni.\n",
    "- **Piłokształtny**: Charakteryzuje się liniowym wzrostem i nagłym spadkiem, często używany w analizie harmonicznej.\n",
    "- **Prostokątny**: Fala, która przełącza się między dwoma poziomami, tworząc prostokątne impulsy, powszechnie używane w elektronice i teorii informacji.\n",
    "\n",
    "Każdy z tych wykresów zostanie przedstawiony wraz z naszą implementacją w c++\n"
   ]
  },
  {
   "cell_type": "markdown",
   "id": "b8f43ac5-ffa2-4c5e-b122-3f79f83952d0",
   "metadata": {},
   "source": [
    "### Sygnał sin (ax) o danej częstotliwości a "
   ]
  },
  {
   "cell_type": "raw",
   "id": "9134bca6-c846-4d1a-85f4-715115f9c133",
   "metadata": {},
   "source": [
    "int sinus (int a)\n",
    "{\n",
    "    using namespace matplot;\n",
    "    vector<double> x = linspace(0, a * pi);\n",
    "    vector<double> y=transform(x, [](auto x) { return sin(x); });\n",
    "    plot(x, y)->line_width(2).color(\"blue\");\n",
    "    xlabel(\"X\");\n",
    "    ylabel(\"Y\");\n",
    "    show();\n",
    "    return 0;\n",
    "}"
   ]
  },
  {
   "cell_type": "markdown",
   "id": "297d0b6f-8b90-4404-ab8a-a87c8d7f9fdd",
   "metadata": {},
   "source": [
    "<h4> a = 1 </h4>\n"
   ]
  },
  {
   "cell_type": "markdown",
   "id": "20a5cdc2-aba6-425c-8c7f-edccf355ccfb",
   "metadata": {},
   "source": [
    "<img src=\"img\\sinus.png\" alt=\"wykres sinusa a = 1\" width=\"500\"/>"
   ]
  },
  {
   "cell_type": "markdown",
   "id": "a5bee6ed-e8cc-42f0-b944-5a48a7911a68",
   "metadata": {},
   "source": [
    "<h4> a = 8 </h4>"
   ]
  },
  {
   "cell_type": "markdown",
   "id": "7a9712d8-74b0-4e74-9f9a-1a497c05a6d9",
   "metadata": {},
   "source": [
    "<img src=\"img\\sinus8x.png\" alt=\"wykres sinusa a = 8\" width=\"500\"/>"
   ]
  },
  {
   "cell_type": "markdown",
   "id": "6fb974d9-663b-4457-9446-f097d4833baf",
   "metadata": {},
   "source": [
    "### Sygnał cos (ax) o danej częstotliwości a "
   ]
  },
  {
   "cell_type": "raw",
   "id": "b2e22bc1-f214-4aaa-bbd6-200c5dc9f191",
   "metadata": {},
   "source": [
    "int cosinus (int a)\n",
    "{\n",
    "    using namespace matplot;\n",
    "    vector<double> x = linspace (0, a * pi);\n",
    "    vector<double> y=transform( x, [](auto x) { return cos(x); });\n",
    "    plot (x, y)->line_width (2).color (\"blue\");\n",
    "    xlabel (\"X\");\n",
    "    ylabel (\"Y\");\n",
    "    show ();\n",
    "    return 0;\n",
    "}"
   ]
  },
  {
   "cell_type": "markdown",
   "id": "445d34cd-0538-4018-9c7e-842e09e2bdd1",
   "metadata": {},
   "source": [
    "<h4> a = 1 </h4>\n"
   ]
  },
  {
   "cell_type": "markdown",
   "id": "b76fb3a5-bfd2-4dfe-b20c-2833dae8022c",
   "metadata": {},
   "source": [
    "<img src=\"img\\cosinus.png\" alt=\"wykres cosinusa a = 1\" width=\"500\"/>"
   ]
  },
  {
   "cell_type": "markdown",
   "id": "04c1ef26-480e-4684-9e57-c5686640388a",
   "metadata": {},
   "source": [
    "<h4> a = 8 </h4>"
   ]
  },
  {
   "cell_type": "markdown",
   "id": "b30487c3-7b19-4ccd-ac7b-57abb5c4aa5b",
   "metadata": {},
   "source": [
    "<img src=\"img\\cosinus8x.png\" alt=\"wykres cosinusa a = 8\" width=\"500\"/>"
   ]
  },
  {
   "cell_type": "markdown",
   "id": "7cc721f8-3c98-4fa3-9b2b-ecc7af887378",
   "metadata": {},
   "source": [
    " ### Sygnał piłokształtny  o danej częstotliwości a "
   ]
  },
  {
   "cell_type": "raw",
   "id": "7b6e0bda-6998-4bd5-a3e9-755b63f8723e",
   "metadata": {},
   "source": [
    "int pilo (int a)\n",
    "{\n",
    "    using namespace matplot;\n",
    "    vector<double> x;\n",
    "    vector<double> y;\n",
    "\n",
    "    for (int i=0; i<5; i++)\n",
    "    {\n",
    "        x.push_back(a*i);\n",
    "        y.push_back(-1);\n",
    "        x.push_back(a*i+a);\n",
    "        y.push_back(1);\n",
    "    }\n",
    "    plot(x, y)->line_width(2).color(\"blue\");\n",
    "    xlabel (\"X\");\n",
    "    ylabel (\"Y\");\n",
    "    show ();\n",
    "\n",
    "    return 0;\n",
    "}"
   ]
  },
  {
   "cell_type": "markdown",
   "id": "c1808e8a-76ae-48c0-982e-20c8dd669696",
   "metadata": {},
   "source": [
    "<h4> a = 1 </h4>"
   ]
  },
  {
   "cell_type": "markdown",
   "id": "4128c3db-0bb9-49de-896e-1de8231e1a78",
   "metadata": {},
   "source": [
    "<img src=\"img\\pilo.png\" alt=\"wykres piłokształtny a = 1\" width=\"500\"/>"
   ]
  },
  {
   "cell_type": "markdown",
   "id": "c5238dc2-bb69-41d9-ae13-4c5bf9b7d2c4",
   "metadata": {},
   "source": [
    "<h4> a = 8 </h4>"
   ]
  },
  {
   "cell_type": "markdown",
   "id": "3ca44740-147a-4252-b087-6df99c57618c",
   "metadata": {},
   "source": [
    "<img src=\"img\\pilo8x.png\" alt=\"wykres piłokształtny a = 8\" width=\"500\"/>"
   ]
  },
  {
   "cell_type": "markdown",
   "id": "e1d80c59-e57c-4ae4-aab4-d4e9a4c77252",
   "metadata": {},
   "source": [
    "### Sygnał prostokątny (ax) o danej częstotliwości a "
   ]
  },
  {
   "cell_type": "raw",
   "id": "456431e4-fcd5-4b4e-93bb-2bc07fa073c7",
   "metadata": {},
   "source": [
    "int prostokat (int a)\n",
    "{\n",
    "   using namespace matplot;\n",
    "    vector<double> x;\n",
    "    vector<double> y;\n",
    "    for(int i=0; i<10; i+=2)\n",
    "    {\n",
    "        x.push_back (a*i);\n",
    "        y.push_back (2);\n",
    "        x.push_back (a*i);\n",
    "        y.push_back (-2);\n",
    "        x.push_back (a*i+a);\n",
    "        y.push_back (-2);\n",
    "        x.push_back (a*i+a);\n",
    "        y.push_back (2);\n",
    "        x.push_back (a*i+2*a);\n",
    "        y.push_back (2);\n",
    "    }\n",
    "    plot (x, y) -> line_width(5).color (\"blue\");\n",
    "    xlabel(\"X\");\n",
    "    ylabel(\"Y\");\n",
    "    show();\n",
    "\n",
    "    return 0; \n",
    "}"
   ]
  },
  {
   "cell_type": "markdown",
   "id": "071307a2-b6a9-4bcc-9210-ae18ccd495a4",
   "metadata": {},
   "source": [
    "<h4> a = 1 </h4>"
   ]
  },
  {
   "cell_type": "markdown",
   "id": "3f197885-a003-4d5c-8e71-ac4caa420abf",
   "metadata": {},
   "source": [
    "<img src=\"img\\prostokat.png\" alt=\"wykres prostokątny a = 1\" width=\"500\"/>"
   ]
  },
  {
   "cell_type": "markdown",
   "id": "8656a23a-01a2-46e5-9270-9e25c8e40c44",
   "metadata": {},
   "source": [
    "<h4> a = 8 </h4>"
   ]
  },
  {
   "cell_type": "markdown",
   "id": "eb6d7030-8174-44cd-ac97-8ea905fa0912",
   "metadata": {},
   "source": [
    "<img src=\"img\\prostokat8x.png\" alt=\"wykres prostokątny a = 8\" width=\"500\"/>"
   ]
  },
  {
   "cell_type": "markdown",
   "id": "9e292109-5390-403a-9131-2ee5bfcaf229",
   "metadata": {
    "jp-MarkdownHeadingCollapsed": true
   },
   "source": [
    "## Wizualizacja sygnału dźwiękowego z wykorzystaniem biblioteki AudioFile oraz Matplotplusplus\n",
    "\n",
    "W tej sekcji zaprezentujemy, jak wizualizować sygnał dźwiękowy za pomocą bibliotek AudioFile oraz Matplotplusplus. Te narzędzia pozwalają na analizę i prezentację danych audio w formie wykresów, co ułatwia zrozumienie struktury i właściwości sygnałów dźwiękowych.\n",
    "\n",
    "- **AudioFile**: Biblioteka do odczytu i manipulacji plikami audio. Umożliwia łatwe ładowanie sygnałów dźwiękowych do formatu, który można przetwarzać i analizować w c++.\n",
    "- **Matplotplusplus**: Rozszerzenie biblioteki Matplotlib, która umożliwia zaawansowaną wizualizację danych. W kontekście dźwięku, pozwala na tworzenie wykresów amplitudy, spektrogramów oraz innych reprezentacji sygnałów audio.\n",
    "\n",
    "Implementacja wizualizacji pliku test-audio.wav znajduje się poniżej\n",
    "\n"
   ]
  },
  {
   "cell_type": "raw",
   "id": "6d290f3c-a8bd-4838-a3f4-4f8704140a37",
   "metadata": {},
   "source": [
    "AudioFile <double> audioFile;\n",
    "\n",
    "int audio()\n",
    "{\n",
    "    vector<double> x;\n",
    "    vector<double> y;\n",
    "\n",
    "    audioFile.load (\"test-audio.wav\");\n",
    "    \n",
    "    int channel = 0;\n",
    "    int numSamples = audioFile.getNumSamplesPerChannel();\n",
    "\n",
    "    if(numSamples>500)\n",
    "    {\n",
    "        numSamples=500;\n",
    "    }\n",
    "\n",
    "    for (int i = 0; i < numSamples; i++)\n",
    "    {\n",
    "        double currentSample = audioFile.samples[channel][i];\n",
    "        x.push_back(i);\n",
    "        y.push_back(currentSample);\n",
    "    }\n",
    "\n",
    "\n",
    "\n",
    "    matplot::plot(x, y)->line_width(2).color(\"blue\");\n",
    "    matplot::xlabel(\"X\");\n",
    "    matplot::ylabel(\"Y\");\n",
    "    matplot::show();\n",
    "\n",
    "    return numSamples;\n",
    "}"
   ]
  },
  {
   "cell_type": "markdown",
   "id": "c542365b-e6e1-42d2-9ef1-dc8d0d8204e2",
   "metadata": {},
   "source": [
    "<audio controls>\n",
    "  <source src=\"test-audio.wav\" type=\"audio/wav\">\n",
    "  Twoja przeglądarka nie może otworzyć tego pliku.\n",
    "</audio>"
   ]
  },
  {
   "cell_type": "markdown",
   "id": "2da57fa2-3503-4e5a-bd4f-790047695257",
   "metadata": {},
   "source": [
    "<img src=\"img\\audio.png\" alt=\"wykres dla 500 sampli\" width=\"500\"/>\n"
   ]
  },
  {
   "cell_type": "markdown",
   "id": "50933d6b-7261-473a-bedf-88d44eb236c2",
   "metadata": {},
   "source": [
    "## Filtry 1D \n",
    "W tej sekcji wykorzystujemy bibliotekę AudioFile do wczytania obrazu dźwiękowego oraz Matplotplusplus do wizualizacji sygnałów dźwiękowych. Stosujemy różne rodzaje filtrów 1D w celu przetworzenia sygnału dźwiękowego, co pozwala na modyfikację charakterystyki tonalnej oraz eliminację niepożądanych składowych.\n",
    "\n",
    "- **Filtr dolnoprzepustowy**: Jest używany do redukcji wysokich częstotliwości w sygnale, co prowadzi do wygładzenia lub rozmycia dźwięku. Pozwala to na usunięcie szumów lub niepożądanych artefaktów wysokich częstotliwości.\n",
    " \n",
    "- **Filtr górnoprzepustowy**: Służy do eliminacji niskich częstotliwości, co umożliwia wyizolowanie składowych wysokich częstotliwości. Jest przydatny w celu wzmocnienia ostrości dźwięku lub wykrycia szczegółów akustycznych.\n",
    "\n",
    "- **Filtr środkowoprzepustowy**: Pozwala na zachowanie tylko części pasma środkowego sygnału, eliminując zarówno składowe niskie, jak i wysokie częstotliwości. Jest stosowany w celu uwypuklenia określonych tonów lub pasm częstotliwościowych.\n",
    "\n",
    "- **Filtr środkowozaporowy**: Ma za zadanie wyciąć określone pasmo częstotliwości z sygnału, pozostawiając nienaruszonych składowe niskie i wysokie częstotliwości. Jest używany do eliminacji szumów o określonej częstotliwości lub usuwania niepożądanych zakłóceń.\n",
    "\n",
    "Każdy z tych filtrów zostanie przedstawiony razem z implementacją  w c++ oraz przykładami"
   ]
  },
  {
   "cell_type": "markdown",
   "id": "0d59e57e-a00e-47b9-b276-c0f6941318f5",
   "metadata": {},
   "source": [
    "### sygnał wejściowy"
   ]
  },
  {
   "cell_type": "markdown",
   "id": "5b70b6a4-4a65-478e-adc7-66b8132eba58",
   "metadata": {},
   "source": [
    "<img src=\"img\\sygnal_wejsciowy.png\"  width=\"500\" />"
   ]
  },
  {
   "cell_type": "markdown",
   "id": "7f65f317-a7bc-4488-a650-46ce9275900d",
   "metadata": {},
   "source": [
    "### Filtr dolnoprzepustowy"
   ]
  },
  {
   "cell_type": "raw",
   "id": "5b478e5f-0efd-49bd-9ad9-9c2a44b7d95a",
   "metadata": {},
   "source": [
    "void filtr_dolno_przepustowy(const string& nazwaPliku, double czestotliwoscOdcieta)\n",
    "{\n",
    "    using namespace matplot;\n",
    "    \n",
    "    AudioFile<double> audioFile;\n",
    "    audioFile.load(nazwaPliku);\n",
    "    \n",
    "    vector<double> sygnalWejsciowy = audioFile.samples[0];\n",
    "    double czestotliwoscProbkowania = audioFile.getSampleRate();\n",
    "    \n",
    "    auto dolnoprzepustowy = [&](const vector<double>& sygnal)\n",
    "     {\n",
    "        vector<double> wynik;\n",
    "        wynik.reserve(sygnal.size());\n",
    "\n",
    "        double alfa = 1.0 / (1.0 + czestotliwoscOdcieta);\n",
    "\n",
    "        wynik.push_back(sygnal[0]);\n",
    "\n",
    "        for (size_t i = 1; i < sygnal.size(); ++i) \n",
    "        {\n",
    "            double nowaWartosc = alfa * sygnal[i] + (1.0 - alfa) * wynik[i - 1];\n",
    "            wynik.push_back(nowaWartosc);\n",
    "        }\n",
    "\n",
    "        return wynik;\n",
    "    };\n",
    "\n",
    " \n",
    "    vector<double> sygnalWyjsciowy = dolnoprzepustowy(sygnalWejsciowy);\n",
    "\n",
    "    plot (sygnalWejsciowy);\n",
    "    title (\"Sygnał Wejściowy\");\n",
    "    show ();\n",
    "\n",
    "    plot(sygnalWyjsciowy);\n",
    "    title(\"Sygnał Wyjściowy po Filtracji Dolnoprzepustowej\");\n",
    "    show();\n",
    "}"
   ]
  },
  {
   "cell_type": "markdown",
   "id": "53a423a1-a9be-4d7a-a387-313127d83524",
   "metadata": {},
   "source": [
    "<img src=\"img\\dolno_przepustowy.png\"  width=\"500\"/>"
   ]
  },
  {
   "cell_type": "markdown",
   "id": "33ea409e-64bd-42ac-a50e-5d4e4eb51328",
   "metadata": {},
   "source": [
    "### Filtr górnoprzepustowy"
   ]
  },
  {
   "cell_type": "raw",
   "id": "01994ab9-3432-405c-b16c-cb7a9187273a",
   "metadata": {},
   "source": [
    "void filtr_gorno_przepustowy(const string& nazwaPliku, double czestotliwoscOdcieta) \n",
    "{\n",
    "    using namespace matplot;\n",
    "\n",
    "    AudioFile<double> audioFile;\n",
    "\n",
    "    audioFile.load(nazwaPliku);\n",
    "    vector<double> sygnalWejsciowy = audioFile.samples[0];\n",
    "\n",
    "    double czestotliwoscProbkowania = audioFile.getSampleRate();\n",
    "\n",
    "    auto gornoprzepustowy = [&](const vector<double>& sygnal) \n",
    "    {\n",
    "        vector<double> wynik;\n",
    "        wynik.reserve(sygnal.size());\n",
    "\n",
    "        double alfa = czestotliwoscOdcieta / (czestotliwoscOdcieta + czestotliwoscProbkowania);\n",
    "\n",
    "        wynik.push_back(sygnal[0]);\n",
    "        for (size_t i = 1; i < sygnal.size(); ++i) \n",
    "        {\n",
    "            double nowaWartosc = alfa * wynik[i - 1] + alfa * (sygnal[i] - sygnal[i - 1]);\n",
    "            wynik.push_back(nowaWartosc);\n",
    "        }\n",
    "\n",
    "        return wynik;\n",
    "    };\n",
    "\n",
    "    vector<double> sygnalWyjsciowy = gornoprzepustowy(sygnalWejsciowy);\n",
    "\n",
    "    \n",
    "    plot(sygnalWejsciowy);\n",
    "    title(\"Sygnał Wejściowy\");\n",
    "    show();\n",
    "\n",
    "    plot(sygnalWyjsciowy);\n",
    "    title(\"Sygnał Wyjściowy po Filtracji Górnoprzepustowej\");\n",
    "    show();\n",
    "}"
   ]
  },
  {
   "cell_type": "markdown",
   "id": "fabf653d-a743-4f41-9884-6f33bff399a0",
   "metadata": {},
   "source": [
    "<img src=\"img\\gorno_przepustowy.png\"  width=\"500\"/>"
   ]
  },
  {
   "cell_type": "markdown",
   "id": "46416650-ed15-487b-a64b-24cbfda2ce09",
   "metadata": {},
   "source": [
    "### Filtr środkowoprzepustowy"
   ]
  },
  {
   "cell_type": "raw",
   "id": "99553f85-7771-459c-921f-93bfbb7694f0",
   "metadata": {},
   "source": [
    "void filtr_srodkowo_przepustowy(const string& nazwaPliku, double czestotliwoscDolna, double czestotliwoscGorna) \n",
    "{\n",
    "\n",
    "    using namespace matplot;\n",
    "\n",
    "    AudioFile<double> audioFile;\n",
    "    audioFile.load(nazwaPliku);\n",
    "\n",
    "    vector<double> sygnalWejsciowy = audioFile.samples[0];\n",
    "\n",
    "    double czestotliwoscProbkowania = audioFile.getSampleRate();\n",
    "\n",
    "    auto srodkowoprzepustowy = [&](const vector<double>& sygnal) \n",
    "    {\n",
    "        vector<double> wynik;\n",
    "        wynik.reserve(sygnal.size());\n",
    "\n",
    "        double alfa1 = czestotliwoscDolna / (czestotliwoscDolna + czestotliwoscProbkowania);\n",
    "        double alfa2 = czestotliwoscGorna / (czestotliwoscGorna + czestotliwoscProbkowania);\n",
    "\n",
    "        wynik.push_back(sygnal[0]);\n",
    "\n",
    "        for (size_t i = 1; i < sygnal.size(); ++i) \n",
    "        {\n",
    "            double nowaWartosc = alfa1 * wynik[i - 1] + alfa2 * (sygnal[i] - sygnal[i - 1]);\n",
    "            wynik.push_back(nowaWartosc);\n",
    "        }\n",
    "\n",
    "        return wynik;\n",
    "    };\n",
    "\n",
    "    vector<double> sygnalWyjsciowy = srodkowoprzepustowy(sygnalWejsciowy);\n",
    "\n",
    "    plot(sygnalWejsciowy);\n",
    "    title(\"Sygnał Wejściowy\");\n",
    "    show();\n",
    "   \n",
    "    plot(sygnalWyjsciowy);\n",
    "    title(\"Sygnał Wyjściowy po Filtracji Środkowoprzepustowej\");\n",
    "    show();\n",
    "}"
   ]
  },
  {
   "cell_type": "markdown",
   "id": "469b44fe-1925-4db3-ba01-eb91ea0b5680",
   "metadata": {},
   "source": [
    "<img src=\"img\\srodkowo_przepustowy.png\"  width=\"500\"/>"
   ]
  },
  {
   "cell_type": "markdown",
   "id": "e1eeb602-096c-4ea0-a5e7-54d53ffc126d",
   "metadata": {},
   "source": [
    "### Filtr środkowozaporowy"
   ]
  },
  {
   "cell_type": "raw",
   "id": "aa3972e6-2e5e-4b29-a9f1-7abb89093a33",
   "metadata": {},
   "source": [
    "void filtr_srodkowo_zaporowy (const string& nazwaPliku, double czestotliwoscDolna, double czestotliwoscGorna) \n",
    "{\n",
    "    using namespace matplot;\n",
    "\n",
    "    AudioFile<double> audioFile;\n",
    "    audioFile.load(nazwaPliku);\n",
    "\n",
    "    vector<double> sygnalWejsciowy = audioFile.samples[0];\n",
    "\n",
    "    double czestotliwoscProbkowania = audioFile.getSampleRate();\n",
    "\n",
    "    auto srodkowozaporowy = [&](const vector<double>& sygnal) \n",
    "    {\n",
    "        vector<double> wynik;\n",
    "        wynik.reserve(sygnal.size());\n",
    "\n",
    "        double alfa1 = czestotliwoscDolna / (czestotliwoscDolna + czestotliwoscProbkowania);\n",
    "        double alfa2 = czestotliwoscGorna / (czestotliwoscGorna + czestotliwoscProbkowania);\n",
    "        wynik.push_back(sygnal[0]);\n",
    "\n",
    "        for (size_t i = 1; i < sygnal.size(); ++i) \n",
    "        {\n",
    "            double nowaWartosc = alfa1 * wynik[i - 1] + alfa2 * (sygnal[i] - sygnal[i - 1]);\n",
    "            wynik.push_back(sygnal[i] - nowaWartosc);\n",
    "        }\n",
    "\n",
    "        return wynik;\n",
    "    };\n",
    "\n",
    "    vector<double> sygnalWyjsciowy = srodkowozaporowy(sygnalWejsciowy);\n",
    "\n",
    "    plot(sygnalWejsciowy);\n",
    "    title(\"Sygnał Wejściowy\");\n",
    "    show();\n",
    "\n",
    "    plot(sygnalWyjsciowy);\n",
    "    title(\"Sygnał Wyjściowy po Filtracji Środkowozaporowej\");\n",
    "    show();\n",
    "}"
   ]
  },
  {
   "cell_type": "markdown",
   "id": "f3d2bdee-94b7-4479-8e2e-db3473a1ecbe",
   "metadata": {},
   "source": [
    "<img src=\"img\\srodkowo_zaporowy.png\"  width=\"500\"/>"
   ]
  },
  {
   "cell_type": "markdown",
   "id": "f468528e-4452-49cf-8ba1-9a71a971c5b0",
   "metadata": {
    "jp-MarkdownHeadingCollapsed": true
   },
   "source": [
    "## Filtry 2D\n",
    "W tej sekcji przedstawimy, jak wykorzystać dwuwymiarowe filtry (Filtr2D) do przetwarzania obrazów za pomocą gotowych funkcji z biblioteki OpenCV. Omówimy zastosowanie filtrów bilateralnych, Gaussa, medianowych oraz wykorzystamy gotowe funkcje takie jak cv2.filter2D(), aby zrozumieć ich wpływ na jakość i właściwości obrazów.\n",
    "\n",
    "- **Filtr Bilateralny**: Jest stosowany do wygładzania obrazów przy jednoczesnym zachowaniu krawędzi. Działa poprzez uśrednianie pikseli z uwzględnieniem zarówno przestrzennej bliskości, jak i różnicy w wartościach kolorów.\n",
    "  \n",
    "- **Filtr Gaussa**: Znany również jako filtr Gaussian Blur, używany do rozmycia obrazu i redukcji szumów. Jest oparty na funkcji Gaussa, co zapewnia płynne przejścia i naturalne rozmycie.\n",
    "\n",
    "- **Filtr Medianowy**: Używany głównie do redukcji szumu typu \"salt and pepper\". Działa poprzez zastępowanie wartości piksela medianą wartości pikseli w określonym sąsiedztwie, co skutecznie usuwa szumy bez znacznego rozmycia krawędzi.\n",
    "\n",
    "Implementacje w c++ oraz przykłady działania tych filtrów znajdują się poniżej"
   ]
  },
  {
   "cell_type": "markdown",
   "id": "c0326e86-0d03-4bfb-873b-c206cacc1beb",
   "metadata": {
    "jp-MarkdownHeadingCollapsed": true
   },
   "source": [
    "### Teoria"
   ]
  },
  {
   "cell_type": "markdown",
   "id": "d11f0466-aa8b-46c7-bdf1-7944f89e8956",
   "metadata": {},
   "source": [
    "<img src=\"img\\pocz.png\" />"
   ]
  },
  {
   "cell_type": "markdown",
   "id": "a058a2b8-6a07-41cd-8f09-355a1834ce2e",
   "metadata": {},
   "source": [
    "<img src=\"img\\filtry_liniowe.png\"  />"
   ]
  },
  {
   "cell_type": "markdown",
   "id": "0bbd5333-ecdf-47b2-9c40-bc806ad1b258",
   "metadata": {},
   "source": [
    "<img src=\"img\\filtr_liniowy.png\"  />"
   ]
  },
  {
   "cell_type": "markdown",
   "id": "b39f25d4-aac1-447a-a9d3-26b2c0f28443",
   "metadata": {},
   "source": [
    "<img src=\"img\\median.png\" />"
   ]
  },
  {
   "cell_type": "markdown",
   "id": "6bec5c4f-917d-44e7-b941-bc538076c946",
   "metadata": {},
   "source": [
    "<img src=\"img\\gauss.png\" />"
   ]
  },
  {
   "cell_type": "markdown",
   "id": "06a216f2-8683-4b40-a746-33b7d89aa2ff",
   "metadata": {},
   "source": [
    "<img src=\"img\\gaus_median.png\" />"
   ]
  },
  {
   "cell_type": "markdown",
   "id": "bfd5db69-6ae3-49d6-bd47-103d1417a83b",
   "metadata": {
    "jp-MarkdownHeadingCollapsed": true
   },
   "source": [
    "### implementacja kodu"
   ]
  },
  {
   "cell_type": "raw",
   "id": "f1c677e3-e0ba-479b-9672-4e0e929b2d68",
   "metadata": {},
   "source": [
    "int filtry2d()\n",
    "{\n",
    "\n",
    "    using namespace cv;\n",
    "\n",
    "    Mat img = imread(\"temida.jpg\", IMREAD_COLOR);\n",
    "    Mat bilateralImg, gaussianImg, medianImg;\n",
    "    \n",
    "    bilateralFilter(img, bilateralImg, 15,95,45);\n",
    "    GaussianBlur (img, gaussianImg, Size (15,15),0);\n",
    "    medianBlur (img, medianImg, 3);\n",
    "    \n",
    "    imshow(\"Median\", medianImg);\n",
    "    imshow(\"Gaussian\", gaussianImg);\n",
    "    imshow(\"Bilateral\", bilateralImg); imshow(\"Input\", img);\n",
    "     waitKey();\n",
    "    imshow(\"Input\", img);\n",
    "\n",
    "    waitKey(0);\n",
    "\n",
    "    return 0;\n",
    "\n",
    "}\n"
   ]
  },
  {
   "cell_type": "raw",
   "id": "cdb2b8fe-107a-4ba4-bf85-2bcc5e3a4d42",
   "metadata": {},
   "source": [
    "int filtr2d()\n",
    "{\n",
    "\n",
    "    using namespace cv;\n",
    "\n",
    "\n",
    "    Mat custom = imread(\"temida.jpg\", IMREAD_GRAYSCALE); \n",
    "    Mat_<float>kernel (3,3);\n",
    "\n",
    "    kernel<<-1,1,-1, \n",
    "            1,1,1,\n",
    "            -1,1,-1;\n",
    "\n",
    "    namedWindow(\"Custom\", WINDOW_NORMAL); \n",
    "    namedWindow(\"Kernel\", WINDOW_NORMAL); \n",
    "    namedWindow(\"filter2D\", WINDOW_NORMAL);\n",
    "\n",
    "    Mat custom2, kernel2, filter2D, filter2D2;\n",
    "    cv :: filter2D (custom, filter2D, -1, kernel, cv :: Point(-1,-1));\n",
    "\n",
    "    custom.convertTo(custom2, CV_8UC1);\n",
    "    kernel.convertTo (kernel2, CV_8UC1);\n",
    "    filter2D.convertTo(filter2D2, CV_8UC1);\n",
    "\n",
    "    imshow(\"Custom\", custom2);\n",
    "    imshow(\"Kernel\", kernel2);\n",
    "    imshow(\"filter2D\", filter2D2);\n",
    "    waitKey(0);\n",
    "\n",
    "    return 0;\n",
    "}"
   ]
  },
  {
   "cell_type": "markdown",
   "id": "aa8360d5-5275-41ab-91b1-2e8d71ba7dd9",
   "metadata": {
    "jp-MarkdownHeadingCollapsed": true
   },
   "source": [
    "### Przykłady"
   ]
  },
  {
   "cell_type": "markdown",
   "id": "ee06647a-be0a-4620-9ec4-48c89afc17c9",
   "metadata": {},
   "source": [
    "<img src=\"img\\input.png\"  width=\"500\"/>\n",
    "<img src=\"img\\Bilateral.png\"  width=\"500\"/>\n",
    "<img src=\"img\\madianowy.png\"  width=\"500\"/>\n",
    "<img src=\"img\\gausian.png\"  width=\"500\"/>\n",
    "<img src=\"img\\filter2d.png\"  width=\"500\"/>"
   ]
  },
  {
   "cell_type": "markdown",
   "id": "a4e79aec-6f15-4d67-a368-036c78f4bb13",
   "metadata": {
    "jp-MarkdownHeadingCollapsed": true
   },
   "source": [
    "## Wykrywanie krawędzi korzystając z filtracji\n",
    "Funkcja wykryj_krawedz() służy do wykrywania krawędzi na podstawie obrazu wczytanego z pliku \"temida.jpg\". Wykorzystuje ona bibliotekę OpenCV do operacji przetwarzania obrazu, takich jak filtracja Sobela i Laplace'a. Użytkownik może dostosować parametry filtrów, takie jak kierunek gradientu, rozmiar jądra Sobela oraz skalę i przesunięcie w filtrze Sobela. Program umożliwia także interaktywną obsługę za pomocą klawiszy klawiatury, co pozwala na dynamiczną zmianę parametrów filtrów w czasie rzeczywistym."
   ]
  },
  {
   "cell_type": "markdown",
   "id": "b6d90714-dd91-4ed4-89b0-28d7da3ff027",
   "metadata": {
    "jp-MarkdownHeadingCollapsed": true
   },
   "source": [
    "### Teoria"
   ]
  },
  {
   "attachments": {},
   "cell_type": "markdown",
   "id": "567b7e52-2d83-4ea9-ad79-87bc4797cb76",
   "metadata": {},
   "source": [
    "<img src=\"img\\sobel.png\" />\n",
    "<img src=\"img\\gradient.png\" />\n",
    "<img src=\"img\\laplasjan.png\" />\n",
    "<img src=\"img\\druga_pochodna.png\" />\n",
    "<img src=\"img\\wk.png\" />\n",
    "<img src=\"img\\wk2.png\" />\n",
    "<img src=\"img\\wk3.png\" />\n",
    "<img src=\"img\\wk4.png\" />\n",
    "<img src=\"img\\wk5.png\" />\n",
    "<img src=\"img\\wk6.png\" />\n",
    "\n"
   ]
  },
  {
   "cell_type": "markdown",
   "id": "6684dd7d-a556-446f-aab6-b25becea7676",
   "metadata": {
    "jp-MarkdownHeadingCollapsed": true
   },
   "source": [
    "### Implementacja"
   ]
  },
  {
   "cell_type": "raw",
   "id": "89c6416d-0313-4689-a685-fe870e7b23f2",
   "metadata": {},
   "source": [
    "int wykryj_krawedz()\n",
    "{\n",
    "    \n",
    "\n",
    "    using namespace cv;\n",
    "\n",
    "    Mat img = imread(\"temida.jpg\", IMREAD_GRAYSCALE);\n",
    "    namedWindow(\"Input\", WINDOW_NORMAL);\n",
    "    namedWindow(\"Output\", WINDOW_NORMAL);\n",
    "    namedWindow(\"laplace\", WINDOW_NORMAL);\n",
    "    Mat outputImg, laplace;\n",
    "    \n",
    "    int dx = 1; // 1 or 0 \n",
    "    int dy = 1; // 1 or 0 \n",
    "    int sobelKernelSize = 3;\n",
    "    int scaleFactor = 1;\n",
    "    int deltaValue = 1;\n",
    "\n",
    "    while (1) \n",
    "    {\n",
    "        Sobel (img, outputImg, -1, dx, dy, sobelKernelSize, scaleFactor, deltaValue);\n",
    "        Laplacian (img, laplace,-1,1,1,0);\n",
    "\n",
    "        int c = waitKey(1);\n",
    "        \n",
    "        if ((char) c == 'q')\n",
    "        {\n",
    "            cout << \"pressed to q\" <<endl;\n",
    "            break;\n",
    "        }\n",
    "\n",
    "        else if ((char) c == 'a')\n",
    "        {\n",
    "            cout << \"pressed to a\" << endl;\n",
    "            if (dx && dy)\n",
    "                dx = 0;\n",
    "            else\n",
    "                dx = 1;\n",
    "        }\n",
    "\n",
    "        else if ((char) c == 's')\n",
    "        {\n",
    "            cout << \"pressed to s\" << endl;\n",
    "            if (dx && dy)\n",
    "                dy = 0;\n",
    "            else\n",
    "                dy = 1;\n",
    "        }\n",
    "\n",
    "        else if ((char) c == 'd')\n",
    "        {\n",
    "            cout << \"pressed to d\" << endl;\n",
    "            sobelKernelSize += 2;\n",
    "        \n",
    "        }\n",
    "\n",
    "        else if ((char) c == 'f')\n",
    "        {\n",
    "            cout << \"pressed to f\" << endl;\n",
    "            if (sobelKernelSize > 1)\n",
    "             sobelKernelSize -= 2;\n",
    "        }\n",
    "\n",
    "        else if ((char) c == 'z')\n",
    "        {\n",
    "            cout << \"pressed to z\" << endl;\n",
    "            scaleFactor++;\n",
    "        }\n",
    "      \n",
    "        else if ((char) c == 'x')\n",
    "        {\n",
    "            cout << \"pressed to x\" << endl;\n",
    "            scaleFactor--;\n",
    "            \n",
    "        }\n",
    "\n",
    "        else if ((char) c == 'c')\n",
    "        {\n",
    "            cout << \"pressed to c\" << endl;\n",
    "            deltaValue++;\n",
    "        }\n",
    "\n",
    "        else if ((char) c =='v')\n",
    "        {\n",
    "            cout << \"pressed to v\" << endl;\n",
    "            deltaValue--;\n",
    "        }\n",
    "        \n",
    "        imshow (\"Input\", img);\n",
    "        imshow (\"laplace\", laplace);\n",
    "        imshow (\"Output\", outputImg);\n",
    "        \n",
    "    }\n",
    "}"
   ]
  },
  {
   "cell_type": "markdown",
   "id": "c735e5da-a628-42e3-8318-2b527ba53dc6",
   "metadata": {
    "jp-MarkdownHeadingCollapsed": true
   },
   "source": [
    "### Przykład:"
   ]
  },
  {
   "cell_type": "markdown",
   "id": "59eadc88-46fe-4863-99bb-4fff0524aee7",
   "metadata": {},
   "source": [
    "<img src=\"img\\input.png\"  width=\"500\"/>\n",
    "<img src=\"img\\laplace.png\"  width=\"500\"/>\n",
    "<img src=\"img\\output.png\"  width=\"500\"/>\n",
    "<img src=\"img\\output2.png\"  width=\"500\"/>\n",
    "<img src=\"img\\output3.png\"  width=\"500\"/>"
   ]
  },
  {
   "cell_type": "code",
   "execution_count": null,
   "id": "9f4c6279-21d2-4ad3-8ce3-07ebd716be83",
   "metadata": {},
   "outputs": [],
   "source": []
  }
 ],
 "metadata": {
  "kernelspec": {
   "display_name": "Python 3 (ipykernel)",
   "language": "python",
   "name": "python3"
  },
  "language_info": {
   "codemirror_mode": {
    "name": "ipython",
    "version": 3
   },
   "file_extension": ".py",
   "mimetype": "text/x-python",
   "name": "python",
   "nbconvert_exporter": "python",
   "pygments_lexer": "ipython3",
   "version": "3.12.3"
  }
 },
 "nbformat": 4,
 "nbformat_minor": 5
}
